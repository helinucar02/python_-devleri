print("Hello ")


a=int(input("sayıyı giriniz:"))
b=int(input("sayıyı giriniz:"))
print (a+b)


a=int(input("Sayıyı girin:"))
if a <0 :
    print("Sayı negatiftir.")
elif a>0: 
    print("Sayı pozitiftir.")
else :
    print("Sayı sıfırdır.")



a=int(input("sayıyı giriniz:"))
b=int(input("sayıyı giriniz:"))
c=int(input("sayıyı giriniz:"))
if a>b:
   if a>c:
        print(a," en büyük sayıdır.")
   else:
       print(c," en büyük sayıdır.")
elif b>c:
    print(b," en büyük sayıdır.")
else:
    print(c," en büyük sayıdır.") 
         



a=int(input("sayıyı giriniz:"))
if a%2==0:
    print("Sayı çifttir.")
else:
    print("Sayı tektir.")



gun=int(input("1 ile 7 arası sayıyı giriniz:"))
match gun:
    case 1:
        print(gun,". gün pazartesidir.")
    case 2:
         print(gun,". gün salıdır.") 
    case 3:
        print(gun,". gün çarşambadır.")
    case 4:
        print(gun,". gün perşembedir.")
    case 5:
        print(gun,". gün cumadır.")
    case 6:
        print(gun,". gün cumartesidir.")
    case 7:
        print(gun,". gün pazardır.")
    case _:
        print("Geçersiz sayı.")
        
    


a=int(input("sayıyı giriniz:"))
b=int(input("sayıyı giriniz:"))
islem=(input("İşlemi giriniz:"))
match islem:
    case '+':
        print("Toplamı:",a+b)
    case '-':
        print("farkı:",a-b)
    case '*':
        print("Çarpımı:",a*b)
    case '/':
        if b!=0:
            print("Bölümü:",a/b)
        else:
            print("Tanımsızdır.")
    case _:
        print("Geçersiz İşlem.")
    


n=int(input(" n sayısını giriniz:"))
toplam=0 
for i in range(1,n+1): 
    toplam+=i 
print("Sayıların toplamı:",toplam)


a=int(input("sayıyı giriniz:"))
carpım=1
for i in range(1,a+1):
    for j in range(1,11):
        print(i,"*",j,"=",i*j)


toplam=0
for i in range(1,6):
    sayi=int(input("sayıyı giriniz:"))
    toplam+=sayi
print("Ortalama:",toplam/5)


faktöriyel=1
sayi=int(input("sayıyı giriniz:"))
for i in range(1,sayi+1):
    faktöriyel*=i
print("Faktöriyeli:",faktöriyel)


sayi=(input("sayıyı giriniz:"))
print("Sayının düz hali:",sayi)
i=len(sayi)-1
tersHali=""
while i>=0:
    tersHali+=sayi[i]
    i-=1
print("Sayının ters hali:",tersHali)    


toplam=0
for i in range(1,101):
    if i%2==0:
        toplam+=i
    else:
        i+=1
print("Çift sayıların toplamı:",toplam)
        



carpım=1
for i in range(1,10):
    if i%2==1:
        carpım*=i
    else:
        i+=1
print("tek sayıların çarpımı:",carpım)


for i in range(1,11):
    kareler=i*i
    print(i,"nin karesi:",kareler)


sifre="python123"
sifre2=(input("sifreyi  giriniz:"))
if sifre2==sifre:
    print("Giriş başarılıdır.")
else:
    print("Giriş başarısızdır.")


yas=int(input("yaşınızı giriniz:"))
if yas>=18:
    print("Yaşınız gereği reşit olarak kabul edilmektesiniz.")
else:
    print("Yaşınız gereği reşit olarak kabul edilmemektesiniz.")


vize1=int(input("vize1 notunu giriniz:"))
vize2=int(input("vize2 notunu giriniz:"))
final=int(input("final notunu giriniz:"))
ortalama=(vize1+vize2+final)/3
if ortalama>=50:
    print("Ortalama:",ortalama," ile Geçti")
else:
    print("Ortalama:",ortalama," ile Kaldı")



kilo=int(input(" kilonuzu giriniz:"))
boy=int(input(" boyunuzu giriniz:"))
VKD=(kilo)/(boy/100)**2
if VKD>25:
    print(VKD," değeri ile fazla kiloludur")
elif VKD<18:
    print(VKD," değeri ile zayıftır")
else:
    print(VKD," değeri ile normaldir")
    


a = int(input("Sayıyı giriniz: "))
b = int(input("Sayıyı giriniz: "))

toplama = a + b
cikarma = a - b
carpma = a * b
bölme = a / b
islem=(input("İşlemi giriniz:"))
match islem:
    case 'T'|'t':
        print("Toplama işlemi sonucu:",toplama)
    case 'C'|'c':
        print("Çıkarma işlemi sonucu:",cikarma)
    case 'Ca'|'ca':
        print("Çarpma işlemi sonucu:",carpma)
    case 'B'|'b' :
        if b!=0:
            print("Bölme işlemi sonucu:",bölme)
        else:
            print("bölme işlemi sonucu Tanımsızdır.")
    case _:
        print("Geçersiz işlem ")



a = int(input("1.Sayıyı giriniz: "))
b = int(input("2.Sayıyı giriniz: "))
c = int(input("3.Sayıyı giriniz: "))
d = int(input("4.Sayıyı giriniz: "))
en_kücük=a
if b< en_kücük:
    en_kücük=b
if c< en_kücük:
    en_kücük=c
if d< en_kücük:
    en_kücük=d
print("En küçük sayı:",en_kücük)
    


a = int(input("1.Sayıyı giriniz: "))
b = int(input("2.Sayıyı giriniz: "))
c = int(input("3.Sayıyı giriniz: "))

if a>=b or a>=c:
    en_büyük=a
    if b>=c:
        ortanca=b
        en_kücük=c
    else:
        ortanca=c
        en_kücük=b
        
elif  b>=c or b>=a:
    en_büyük=b
    if a>=c: 
        ortanca=c
        en_kücük=a
    else:
        ortanca=a
        en_kücük=b
        
elif  c>=b or c>=a:
    en_büyük=c
    if a>=b: 
        ortanca=a
        en_kücük=b
    else:
        ortanca=b
        en_kücük=a       

print("küçükten büyüğe sıralama:",en_kücük,ortanca,en_büyük)




n=int(input(" n sayısını giriniz:"))
toplam=0
i=1
while i<n+1: 
    toplam+=i
    i=i+1
print("Sayıların toplamı:",toplam)


carpim=1
for i in range(1,6):
    carpim*=i

print("Carpim:",carpim)



kareler_toplami=0
for i in range(1,11):
    kareler=i*i
    kareler_toplami+=kareler
    
print("kareler toplamı:", kareler_toplami)


n=int(input(" n sayısını giriniz:"))
küpler_toplami=0
for i in range(1,n+1):
    sayi_küpleri=i**3
    küpler_toplami+=sayi_küpleri

print("Küpler toplamı:",küpler_toplami)
    



puan=int(input(" 100lük sistemde notunuzu giriniz:"))
if puan>=90 and puan<=100:
    puan_harfi='A'
    print( puan,"puan ile", " harf notunuz:",puan_harfi)
elif puan>=80 and puan<90:
    puan_harfi='B'
    print( puan,"puan ile", " harf notunuz:",puan_harfi)
elif puan>=70 and puan<80:
    puan_harfi='C'
    print( puan,"puan ile", " harf notunuz:",puan_harfi)
elif puan>=60 and puan<70:
    puan_harfi='D'
    print( puan,"puan ile", " harf notunuz:",puan_harfi)
elif puan>=0 and puan<60:
    puan_harfi='F'
    print( puan,"puan ile", " harf notunuz:",puan_harfi)
else:
    print("Geçersiz puan")


sayi = int(input("Lütfen tahmin edilmesini istediğiniz 1 ile 100 arasında bir sayı girin: "))

while True:
    tahmin = int(input("1 ile 100 arasında bir sayı tahmin edin: "))
    
    if tahmin < sayi:
        print("Daha büyük bir sayı girin!")
    elif tahmin > sayi:
        print("Daha küçük bir sayı girin!")
    else:
        print(f"Tebrikler! {sayi} sayısını doğru tahmin ettiniz ")
        break  # Doğru tahmin yapılınca oyunu bitir


sayilar=[]
sayac=0
for number in range(1,101):
    if number%3==0 and number%5==0:
        sayac+=1
        sayilar.append(number)
print("Adet sayıları:",sayac,"Sayılar:",sayilar)
    



a=int(input(" 1.sayıyı giriniz:"))
b=int(input(" 2.sayıyı giriniz:"))
c=int(input(" 3.sayıyı giriniz:"))

if a==b==c:
    print("Tüm sayilar eşittir")
elif a==b or b==c or a==c :
    print("İki sayi eşittir")
else:
    print("Hiçbiri eşit değildir.")



yil=int(input(" Yili giriniz:"))
if (yil%4==0 and yil%100!=0) or (yil%400)==0:
    print("Girdiğiniz yıl artık yıldır.")
else:
   print("Girdiğiniz yıl artık yıl değildir.") 



kilo=int(input(" kilonuzu giriniz:"))
boy=int(input(" boyunuzu giriniz:"))
BMI=(kilo)/(boy/100)**2
if BMI<18.5:
    print(BMI," değeri ile zayıftır")
elif BMI>=18.5 and BMI<25:
    print(BMI," değeri ile normaldir")
elif BMI>=25 and BMI<30:
    print(BMI," değeri ile fazla kiloludur")
elif BMI>=30:
    print(BMI," değeri ile obezdir")
else:
    print("Geçersiz değer")


yas = int(input("Yaşınızı giriniz: "))

if 0 <= yas <= 5:
    print("Bilet ücreti: Ücretsiz")
elif 6 <= yas <= 18:
    print("Bilet ücreti: 10 TL")
elif 19 <= yas <= 64:
    print("Bilet ücreti: 20 TL")
elif yas >= 65:
    print("Bilet ücreti: 15 TL")
else:
    print("Geçersiz yaş girdiniz.")


hava_durumu = input("Hava durumunu giriniz (güneşli, yağmurlu, karlı): ").lower()
sicaklik = int(input("Sıcaklığı giriniz (°C): "))

if hava_durumu == "güneşli" and sicaklik >= 25:
    print("Piknik yapabilirsiniz.")
elif hava_durumu == "yağmurlu":
    print("Şemsiye almayı unutmayın.")
elif hava_durumu == "karlı" and sicaklik < 0:
    print("Kayak yapmaya gidebilirsiniz.")
else:
    print("Evde kalabilirsiniz.")


sayi = int(input("Bir tam sayı giriniz: "))

if sayi > 0:
    print("Pozitif")
elif sayi < 0:
    print("Negatif")
else:
    print("Sıfır")


sayi = int(input("Bir sayı giriniz: "))
orjinal_sayi = sayi  # Sayıyı sakla
toplam = 0

basamak_sayisi = len(str(sayi))

while sayi > 0:
    basamak = sayi % 10  # Son basamağı al
    toplam += basamak ** basamak_sayisi  # Üssünü hesapla ve ekle
    sayi //= 10  # Bir basamak eksilt

if toplam == orjinal_sayi:
    print(f"{orjinal_sayi} bir Armstrong sayısıdır.")
else:
    print(f"{orjinal_sayi} bir Armstrong sayısı değildir.")


sayi1 = int(input("Birinci sayıyı giriniz: "))
sayi2 = int(input("İkinci sayıyı giriniz: "))

if sayi1 > sayi2:
    print("Birinci sayı büyük")
elif sayi1 < sayi2:
    print("İkinci sayı büyük")
else:
    print("Sayılar eşit")


tutar = float(input("Alışveriş tutarını giriniz: "))
uyelik = input("Üye misiniz? (üye/non-üye): ").lower()

if uyelik == "üye":
    indirim_orani = 0.10  # %10 indirim
else:
    indirim_orani = 0.05  # %5 indirim

indirimli_tutar = tutar - (tutar * indirim_orani)

print(f"İndirimli tutar: {indirimli_tutar:.2f} TL")


N = int(input("Kaç Fibonacci terimi yazdırılsın? "))

a, b = 0, 1

for i in range(N):
    print(f"{i+1}. terim: {a}")  
    a, b = b, a + b  

